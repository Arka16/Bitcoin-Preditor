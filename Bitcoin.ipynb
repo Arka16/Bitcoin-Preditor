{
  "cells": [
    {
      "cell_type": "code",
      "execution_count": 1,
      "metadata": {
        "id": "2IlwhV0z2nMr"
      },
      "outputs": [],
      "source": [
        "%matplotlib inline"
      ]
    },
    {
      "cell_type": "code",
      "execution_count": 3,
      "metadata": {
        "id": "Bv1G7ixQvN8E"
      },
      "outputs": [],
      "source": [
        "import numpy as np\n",
        "import pandas as pd\n",
        "import matplotlib.pyplot as plt\n",
        "import seaborn as sns\n",
        "\n",
        "import tensorflow as tf\n",
        "\n",
        "from sklearn.metrics import accuracy_score, precision_score, recall_score\n",
        "from sklearn.model_selection import train_test_split\n",
        "from tensorflow.keras import layers, losses\n",
        "from tensorflow.keras.datasets import fashion_mnist\n",
        "from tensorflow.keras.models import Model"
      ]
    },
    {
      "attachments": {},
      "cell_type": "markdown",
      "metadata": {
        "id": "Y32nQiJbSAwC"
      },
      "source": [
        "Bitcoin Price Prediction\n",
        "---\n",
        " Recurrent neural network model to forecast bitcoin prices/trends from 2014 to 2021.  Training data gathered obtained from Yahoo finance (https://finance.yahoo.com/quote/BTC-USD/history/) to train the recurrent neural network."
      ]
    },
    {
      "cell_type": "code",
      "execution_count": 4,
      "metadata": {
        "id": "iExiItBkdS8F"
      },
      "outputs": [],
      "source": [
        "from pydrive.auth import GoogleAuth\n",
        "from pydrive.drive import GoogleDrive\n",
        "from google.colab import auth\n",
        "from oauth2client.client import GoogleCredentials\n",
        "import io\n",
        "import zipfile\n",
        "auth.authenticate_user()\n",
        "gauth = GoogleAuth()\n",
        "gauth.credentials = GoogleCredentials.get_application_default()\n",
        "drive = GoogleDrive(gauth)\n",
        "file_id = '1IvrXXUDB_kO4ydZb-lwtVF9BLccDtdJP'\n",
        "downloaded = drive.CreateFile({'id': file_id})\n",
        "downloaded.GetContentFile('BTC-USD.csv')\n"
      ]
    },
    {
      "cell_type": "code",
      "execution_count": 5,
      "metadata": {
        "id": "_ab-5H8XVOVi"
      },
      "outputs": [],
      "source": [
        "# Create pandas dataframe\n",
        "data = pd.read_csv('BTC-USD.csv')"
      ]
    },
    {
      "cell_type": "code",
      "execution_count": 6,
      "metadata": {
        "colab": {
          "base_uri": "https://localhost:8080/",
          "height": 204
        },
        "id": "8W_KrGElWT0y",
        "outputId": "eecf7f57-de2e-4678-8093-a2183921fc3b"
      },
      "outputs": [
        {
          "data": {
            "text/html": [
              "<div>\n",
              "<style scoped>\n",
              "    .dataframe tbody tr th:only-of-type {\n",
              "        vertical-align: middle;\n",
              "    }\n",
              "\n",
              "    .dataframe tbody tr th {\n",
              "        vertical-align: top;\n",
              "    }\n",
              "\n",
              "    .dataframe thead th {\n",
              "        text-align: right;\n",
              "    }\n",
              "</style>\n",
              "<table border=\"1\" class=\"dataframe\">\n",
              "  <thead>\n",
              "    <tr style=\"text-align: right;\">\n",
              "      <th></th>\n",
              "      <th>Date</th>\n",
              "      <th>Open</th>\n",
              "      <th>High</th>\n",
              "      <th>Low</th>\n",
              "      <th>Close</th>\n",
              "      <th>Adj Close</th>\n",
              "      <th>Volume</th>\n",
              "    </tr>\n",
              "  </thead>\n",
              "  <tbody>\n",
              "    <tr>\n",
              "      <th>0</th>\n",
              "      <td>2014-09-17</td>\n",
              "      <td>465.864014</td>\n",
              "      <td>468.174011</td>\n",
              "      <td>452.421997</td>\n",
              "      <td>457.334015</td>\n",
              "      <td>457.334015</td>\n",
              "      <td>21056800.0</td>\n",
              "    </tr>\n",
              "    <tr>\n",
              "      <th>1</th>\n",
              "      <td>2014-09-18</td>\n",
              "      <td>456.859985</td>\n",
              "      <td>456.859985</td>\n",
              "      <td>413.104004</td>\n",
              "      <td>424.440002</td>\n",
              "      <td>424.440002</td>\n",
              "      <td>34483200.0</td>\n",
              "    </tr>\n",
              "    <tr>\n",
              "      <th>2</th>\n",
              "      <td>2014-09-19</td>\n",
              "      <td>424.102997</td>\n",
              "      <td>427.834991</td>\n",
              "      <td>384.532013</td>\n",
              "      <td>394.795990</td>\n",
              "      <td>394.795990</td>\n",
              "      <td>37919700.0</td>\n",
              "    </tr>\n",
              "    <tr>\n",
              "      <th>3</th>\n",
              "      <td>2014-09-20</td>\n",
              "      <td>394.673004</td>\n",
              "      <td>423.295990</td>\n",
              "      <td>389.882996</td>\n",
              "      <td>408.903992</td>\n",
              "      <td>408.903992</td>\n",
              "      <td>36863600.0</td>\n",
              "    </tr>\n",
              "    <tr>\n",
              "      <th>4</th>\n",
              "      <td>2014-09-21</td>\n",
              "      <td>408.084991</td>\n",
              "      <td>412.425995</td>\n",
              "      <td>393.181000</td>\n",
              "      <td>398.821014</td>\n",
              "      <td>398.821014</td>\n",
              "      <td>26580100.0</td>\n",
              "    </tr>\n",
              "  </tbody>\n",
              "</table>\n",
              "</div>"
            ],
            "text/plain": [
              "         Date        Open        High  ...       Close   Adj Close      Volume\n",
              "0  2014-09-17  465.864014  468.174011  ...  457.334015  457.334015  21056800.0\n",
              "1  2014-09-18  456.859985  456.859985  ...  424.440002  424.440002  34483200.0\n",
              "2  2014-09-19  424.102997  427.834991  ...  394.795990  394.795990  37919700.0\n",
              "3  2014-09-20  394.673004  423.295990  ...  408.903992  408.903992  36863600.0\n",
              "4  2014-09-21  408.084991  412.425995  ...  398.821014  398.821014  26580100.0\n",
              "\n",
              "[5 rows x 7 columns]"
            ]
          },
          "execution_count": 6,
          "metadata": {},
          "output_type": "execute_result"
        }
      ],
      "source": [
        "# Plot data.head()\n",
        "data.head()"
      ]
    },
    {
      "attachments": {},
      "cell_type": "markdown",
      "metadata": {
        "id": "x0UzN1BASfgD"
      },
      "source": [
        "Plotting the bitcoin price over days after September 15, 2014. Day \"0\" indicates September 15, 2014"
      ]
    },
    {
      "cell_type": "code",
      "execution_count": 7,
      "metadata": {
        "colab": {
          "base_uri": "https://localhost:8080/",
          "height": 265
        },
        "id": "UjcXKOtg6jb5",
        "outputId": "fe66c5f1-781d-44bd-9721-d6e89f55a834"
      },
      "outputs": [
        {
          "data": {
            "image/png": "[encoded data removed]",
            "text/plain": [
              "<Figure size 432x288 with 1 Axes>"
            ]
          },
          "metadata": {
            "needs_background": "light"
          },
          "output_type": "display_data"
        }
      ],
      "source": [
        "import matplotlib.pyplot as plt\n",
        "import seaborn as sns # Used for plotting\n",
        "\n",
        "g = sns.lineplot(x = np.linspace(1,2622,2622), y = data['High'].values.reshape(-1))\n"
      ]
    },
    {
      "attachments": {},
      "cell_type": "markdown",
      "metadata": {
        "id": "Upn-QIHf6mwa"
      },
      "source": [
        "Plotting bitcoin vs. days, where days are displayed as dates"
      ]
    },
    {
      "cell_type": "code",
      "execution_count": 8,
      "metadata": {
        "colab": {
          "base_uri": "https://localhost:8080/",
          "height": 514
        },
        "id": "qaUQJVYCSc-S",
        "outputId": "9076918e-aeab-4935-c38a-4b4dfd2bacef"
      },
      "outputs": [
        {
          "data": {
            "text/plain": [
              "[Text(0, 0, '2014-09-17'),\n",
              " Text(0, 0, '2015-04-05'),\n",
              " Text(0, 0, '2015-10-22'),\n",
              " Text(0, 0, '2016-05-09'),\n",
              " Text(0, 0, '2016-11-25'),\n",
              " Text(0, 0, '2017-06-13'),\n",
              " Text(0, 0, '2017-12-30'),\n",
              " Text(0, 0, '2018-07-18'),\n",
              " Text(0, 0, '2019-02-03'),\n",
              " Text(0, 0, '2019-08-22'),\n",
              " Text(0, 0, '2020-03-09'),\n",
              " Text(0, 0, '2020-09-25'),\n",
              " Text(0, 0, '2021-04-13')]"
            ]
          },
          "execution_count": 8,
          "metadata": {},
          "output_type": "execute_result"
        },
        {
          "data": {
            "image/png": "[encoded data removed]",
            "text/plain": [
              "<Figure size 432x288 with 1 Axes>"
            ]
          },
          "metadata": {
            "needs_background": "light"
          },
          "output_type": "display_data"
        }
      ],
      "source": [
        "import matplotlib.pyplot as plt\n",
        "import seaborn as sns # Used for plotting\n",
        "\n",
        "g = sns.lineplot(x = np.linspace(1,2622,2622), y = data['High'].values.reshape(-1))\n",
        "#g.map(plt.plot, \"a\", \"v\", marker=\"o\")\n",
        "g.set(xticks=np.arange(0,2500,200))\n",
        "g.set_xticklabels(rotation=30, labels = data['Date'][0::200])"
      ]
    },
    {
      "cell_type": "code",
      "execution_count": 9,
      "metadata": {
        "colab": {
          "base_uri": "https://localhost:8080/"
        },
        "id": "mhTJ8iATNFlC",
        "outputId": "a6bea221-2d0c-43b9-8ea1-4ffdfc27d172"
      },
      "outputs": [
        {
          "name": "stdout",
          "output_type": "stream",
          "text": [
            "[[  468.174011]\n",
            " [  456.859985]\n",
            " [  427.834991]\n",
            " ...\n",
            " [60948.5     ]\n",
            " [58351.113281]\n",
            " [59859.878906]]\n"
          ]
        }
      ],
      "source": [
        "# Creates a dataframe that only contains High Column.\n",
        "data = data.dropna(subset = ['High'])\n",
        "data_high = data['High'].to_numpy().reshape(-1,1)\n",
        "print(data_high)"
      ]
    },
    {
      "cell_type": "code",
      "execution_count": 10,
      "metadata": {
        "colab": {
          "base_uri": "https://localhost:8080/"
        },
        "id": "4FXLabvyCEN_",
        "outputId": "75c9b46b-9c27-4d6f-af48-98a571e71d4a"
      },
      "outputs": [
        {
          "name": "stdout",
          "output_type": "stream",
          "text": [
            "(2618, 1)\n"
          ]
        }
      ],
      "source": [
        "#using MinMaxScaler to normalize the date\n",
        "from sklearn.preprocessing import MinMaxScaler\n",
        "scaler = MinMaxScaler()\n",
        "\n",
        "data_normalized = scaler.fit_transform(data_high)\n",
        "print(data_high.shape)"
      ]
    },
    {
      "cell_type": "code",
      "execution_count": 11,
      "metadata": {
        "id": "jtz4UhmUNngP"
      },
      "outputs": [],
      "source": [
        "\n",
        "def create_dataset(dataset, time_steps=1):\n",
        "    \"\"\"\n",
        "    Generate a dataset where the time series X[n] contains the readings for the 'time_step' previous days \n",
        "    and y contains the price for today.\n",
        "    args:\n",
        "    dataset: numpy array, the data\n",
        "    time_steps: the number of previous days to feed to RNN\n",
        "\n",
        "    returns:\n",
        "    tuple: a dataset with x[i] containing 'time_step' number of previous prices, target price for x[i]\n",
        "    \"\"\"\n",
        "    dataX, dataY = [],[]\n",
        "    for i in range(len(dataset)-time_steps-1):\n",
        "        a = dataset[i:(i+time_steps)]\n",
        "        dataX.append(a)\n",
        "        dataY.append(dataset[i + time_steps])\n",
        "    return np.array(dataX), np.array(dataY)"
      ]
    },
    {
      "cell_type": "code",
      "execution_count": 12,
      "metadata": {
        "id": "GtUFvFWuNmiQ"
      },
      "outputs": [],
      "source": [
        "# Choose the number of time steps that the model \"looks back\"\n",
        "time_steps = 34 \n",
        "\n",
        "X,y = create_dataset(data_normalized, time_steps)"
      ]
    },
    {
      "cell_type": "code",
      "execution_count": 13,
      "metadata": {
        "colab": {
          "base_uri": "https://localhost:8080/"
        },
        "id": "GUmwLVKQ9PVN",
        "outputId": "095c30ce-d621-4880-ccf0-9840aecb5c4b"
      },
      "outputs": [
        {
          "name": "stdout",
          "output_type": "stream",
          "text": [
            "(2583, 34, 1) (2583, 1)\n"
          ]
        }
      ],
      "source": [
        "#checking shape of new dataset\n",
        "print(X.shape, y.shape)"
      ]
    },
    {
      "attachments": {},
      "cell_type": "markdown",
      "metadata": {
        "id": "MBKjptQ4Sa7O"
      },
      "source": [
        "Spliting data into train and test sets, where 80% is for training and 20% is for testing. "
      ]
    },
    {
      "cell_type": "code",
      "execution_count": 14,
      "metadata": {
        "id": "q-lwp69bNn-v"
      },
      "outputs": [],
      "source": [
        "X_train, X_test, y_train, y_test = train_test_split(X,y,test_size=0.20, shuffle = False)"
      ]
    },
    {
      "cell_type": "code",
      "execution_count": 15,
      "metadata": {
        "id": "VGY8MCxWSRpv"
      },
      "outputs": [],
      "source": [
        "# Reshape input to be [samples, time steps, features].\n",
        "X_train = np.reshape(X_train, (X_train.shape[0], 1, X_train.shape[1]))\n",
        "X_test = np.reshape(X_test, (X_test.shape[0], 1, X_test.shape[1]))"
      ]
    },
    {
      "cell_type": "markdown",
      "metadata": {
        "id": "QI6ZFzquTh_R"
      },
      "source": [
        "Compile your model and display the summary:"
      ]
    },
    {
      "cell_type": "code",
      "execution_count": 16,
      "metadata": {
        "colab": {
          "base_uri": "https://localhost:8080/"
        },
        "id": "6UVNRGQlTh_S",
        "outputId": "5f1e6a05-b157-461b-eb60-98f519bdd835"
      },
      "outputs": [
        {
          "name": "stdout",
          "output_type": "stream",
          "text": [
            "(2066, 1, 34) (517, 1, 34)\n",
            "Model: \"model\"\n",
            "_________________________________________________________________\n",
            " Layer (type)                Output Shape              Param #   \n",
            "=================================================================\n",
            " input_1 (InputLayer)        [(None, 1, 34)]           0         \n",
            "                                                                 \n",
            " lstm (LSTM)                 (None, 64)                25344     \n",
            "                                                                 \n",
            " dense (Dense)               (None, 64)                4160      \n",
            "                                                                 \n",
            " dense_1 (Dense)             (None, 64)                4160      \n",
            "                                                                 \n",
            " dense_2 (Dense)             (None, 32)                2080      \n",
            "                                                                 \n",
            " dropout (Dropout)           (None, 32)                0         \n",
            "                                                                 \n",
            "=================================================================\n",
            "Total params: 35,744\n",
            "Trainable params: 35,744\n",
            "Non-trainable params: 0\n",
            "_________________________________________________________________\n"
          ]
        },
        {
          "name": "stderr",
          "output_type": "stream",
          "text": [
            "/usr/local/lib/python3.7/dist-packages/keras/optimizer_v2/adam.py:105: UserWarning: The `lr` argument is deprecated, use `learning_rate` instead.\n",
            "  super(Adam, self).__init__(name, **kwargs)\n"
          ]
        }
      ],
      "source": [
        "#RNN Model Structure\n",
        "from tensorflow.keras.layers import Embedding, Dense, Dropout, Input, LSTM, GRU\n",
        "from tensorflow.keras.models import Model\n",
        "\n",
        "\n",
        "input_layer = Input(shape=(1,time_steps))\n",
        "x = LSTM(64)(input_layer)\n",
        "x = Dense(64, activation='relu')(x)\n",
        "x = Dense(64, activation='relu')(x)\n",
        "# x = Dropout(0.15)(x)\n",
        "x = Dense(32, activation='relu')(x)\n",
        "x = Dropout(0.2)(x)\n",
        "print(X_train.shape, X_test.shape)\n",
        "model = Model(input_layer, x)\n",
        "\n",
        "\n",
        "\n",
        "loss = 'mean_squared_error'\n",
        "\n",
        "opt = tf.keras.optimizers.Adam(lr = 2e-3) \n",
        "\n",
        "metrics = 'mean_squared_error' \n",
        "\n",
        "model.compile(loss= loss,\n",
        "              optimizer= opt,\n",
        "              metrics = metrics)\n",
        "\n",
        "model.summary()"
      ]
    },
    {
      "cell_type": "code",
      "execution_count": 17,
      "metadata": {
        "colab": {
          "base_uri": "https://localhost:8080/"
        },
        "id": "Cy6nV7WXTh_S",
        "outputId": "37186ca1-fdac-4a1a-8864-afb6b64069dd"
      },
      "outputs": [
        {
          "name": "stdout",
          "output_type": "stream",
          "text": [
            "Epoch 1/10\n",
            "52/52 [==============================] - 6s 18ms/step - loss: 0.0042 - mean_squared_error: 0.0042 - val_loss: 0.0095 - val_mean_squared_error: 0.0095\n",
            "Epoch 2/10\n",
            "52/52 [==============================] - 0s 6ms/step - loss: 0.0041 - mean_squared_error: 0.0041 - val_loss: 0.0128 - val_mean_squared_error: 0.0128\n",
            "Epoch 3/10\n",
            "52/52 [==============================] - 0s 6ms/step - loss: 0.0043 - mean_squared_error: 0.0043 - val_loss: 0.0124 - val_mean_squared_error: 0.0124\n",
            "Epoch 4/10\n",
            "52/52 [==============================] - 0s 6ms/step - loss: 0.0038 - mean_squared_error: 0.0038 - val_loss: 0.0105 - val_mean_squared_error: 0.0105\n",
            "Epoch 5/10\n",
            "52/52 [==============================] - 0s 7ms/step - loss: 0.0042 - mean_squared_error: 0.0042 - val_loss: 0.0108 - val_mean_squared_error: 0.0108\n",
            "Epoch 6/10\n",
            "52/52 [==============================] - 0s 6ms/step - loss: 0.0030 - mean_squared_error: 0.0030 - val_loss: 0.0083 - val_mean_squared_error: 0.0083\n",
            "Epoch 7/10\n",
            "52/52 [==============================] - 0s 6ms/step - loss: 0.0034 - mean_squared_error: 0.0034 - val_loss: 0.0090 - val_mean_squared_error: 0.0090\n",
            "Epoch 8/10\n",
            "52/52 [==============================] - 0s 6ms/step - loss: 0.0031 - mean_squared_error: 0.0031 - val_loss: 0.0073 - val_mean_squared_error: 0.0073\n",
            "Epoch 9/10\n",
            "52/52 [==============================] - 0s 6ms/step - loss: 0.0028 - mean_squared_error: 0.0028 - val_loss: 0.0072 - val_mean_squared_error: 0.0072\n",
            "Epoch 10/10\n",
            "52/52 [==============================] - 0s 6ms/step - loss: 0.0026 - mean_squared_error: 0.0026 - val_loss: 0.0079 - val_mean_squared_error: 0.0079\n"
          ]
        }
      ],
      "source": [
        "batchsize =32 ### YOUR CODE HERE ###\n",
        "\n",
        "epochs = 10  ### YOUR CODE HERE ###\n",
        "\n",
        "# Fit model\n",
        "history = model.fit(X_train, y_train, batch_size=batchsize, epochs=epochs, validation_split=0.2, shuffle = False) ### YOUR CODE HERE ###"
      ]
    },
    {
      "cell_type": "code",
      "execution_count": 18,
      "metadata": {
        "colab": {
          "base_uri": "https://localhost:8080/",
          "height": 295
        },
        "id": "_ymO0e_oTh_S",
        "outputId": "0aede5f2-7c99-4507-99cb-8ce15b24d5c7"
      },
      "outputs": [
        {
          "data": {
            "image/png": "[encoded data removed]",
            "text/plain": [
              "<Figure size 432x288 with 1 Axes>"
            ]
          },
          "metadata": {
            "needs_background": "light"
          },
          "output_type": "display_data"
        }
      ],
      "source": [
        "# Plot the Model loss\n",
        "\n",
        "### YOUR CODE HERE ###\n",
        "plt.plot(history.history['loss'])\n",
        "plt.plot(history.history['val_loss'])\n",
        "plt.title('Model Loss')\n",
        "plt.ylabel('Loss')\n",
        "plt.xlabel('Epochs')\n",
        "plt.legend(['train', 'test'])\n",
        "plt.show()"
      ]
    },
    {
      "cell_type": "markdown",
      "metadata": {
        "id": "bZPc1zwFUWmv"
      },
      "source": [
        "### Part d) More Advanced RNN Model (15 points)\n",
        "In this part you will create an RNN model with the number of layers and architerure you prefer. Train it on your training data. You will also plot training and validation loss. Again, use mean squared error as your metric. In this part, you can try different models and use different hyper-parameters and report only the best one."
      ]
    },
    {
      "cell_type": "markdown",
      "metadata": {
        "id": "vsDP4F6RUWmx"
      },
      "source": [
        "Compile your model and display the summary:"
      ]
    },
    {
      "cell_type": "code",
      "execution_count": 19,
      "metadata": {
        "colab": {
          "base_uri": "https://localhost:8080/"
        },
        "id": "VJqARE-aUWmx",
        "outputId": "5a119a47-80c9-4510-8105-be2f281f047d"
      },
      "outputs": [
        {
          "name": "stdout",
          "output_type": "stream",
          "text": [
            "(2066, 1, 34) (517, 1, 34)\n",
            "Model: \"model_1\"\n",
            "_________________________________________________________________\n",
            " Layer (type)                Output Shape              Param #   \n",
            "=================================================================\n",
            " input_2 (InputLayer)        [(None, 1, 34)]           0         \n",
            "                                                                 \n",
            " gru (GRU)                   (None, 64)                19200     \n",
            "                                                                 \n",
            " dense_3 (Dense)             (None, 64)                4160      \n",
            "                                                                 \n",
            " dense_4 (Dense)             (None, 32)                2080      \n",
            "                                                                 \n",
            " dense_5 (Dense)             (None, 1)                 33        \n",
            "                                                                 \n",
            "=================================================================\n",
            "Total params: 25,473\n",
            "Trainable params: 25,473\n",
            "Non-trainable params: 0\n",
            "_________________________________________________________________\n"
          ]
        }
      ],
      "source": [
        "\n",
        "\n",
        "input_layer = Input(shape=(1,time_steps))\n",
        "x = GRU(64)(input_layer)\n",
        "x = Dense(64, activation='relu')(x)\n",
        "x = Dense(32, activation='relu')(x)\n",
        "# x = Dense(32, activation='relu')(x)\n",
        "x = Dense(1)(x)\n",
        "print(X_train.shape, X_test.shape)\n",
        "model = Model(input_layer, x)\n",
        "\n",
        "\n",
        "\n",
        "\n",
        "loss = 'mean_squared_error'\n",
        "\n",
        "opt = tf.keras.optimizers.Adam(2e-5)  \n",
        "\n",
        "metrics = 'mean_squared_error' \n",
        "\n",
        "model.compile(loss= loss ,\n",
        "              optimizer= opt,\n",
        "              metrics=  metrics)\n",
        "\n",
        "model.summary()"
      ]
    },
    {
      "cell_type": "code",
      "execution_count": 20,
      "metadata": {
        "colab": {
          "base_uri": "https://localhost:8080/"
        },
        "id": "kuloKr8QUWmy",
        "outputId": "8219168a-2d85-4100-a97c-dd0af5fdd3d1"
      },
      "outputs": [
        {
          "name": "stdout",
          "output_type": "stream",
          "text": [
            "Epoch 1/10\n",
            "52/52 [==============================] - 3s 15ms/step - loss: 0.0039 - mean_squared_error: 0.0039 - val_loss: 0.0120 - val_mean_squared_error: 0.0120\n",
            "Epoch 2/10\n",
            "52/52 [==============================] - 0s 6ms/step - loss: 0.0031 - mean_squared_error: 0.0031 - val_loss: 0.0096 - val_mean_squared_error: 0.0096\n",
            "Epoch 3/10\n",
            "52/52 [==============================] - 0s 6ms/step - loss: 0.0025 - mean_squared_error: 0.0025 - val_loss: 0.0076 - val_mean_squared_error: 0.0076\n",
            "Epoch 4/10\n",
            "52/52 [==============================] - 0s 6ms/step - loss: 0.0021 - mean_squared_error: 0.0021 - val_loss: 0.0060 - val_mean_squared_error: 0.0060\n",
            "Epoch 5/10\n",
            "52/52 [==============================] - 0s 6ms/step - loss: 0.0017 - mean_squared_error: 0.0017 - val_loss: 0.0048 - val_mean_squared_error: 0.0048\n",
            "Epoch 6/10\n",
            "52/52 [==============================] - 0s 6ms/step - loss: 0.0014 - mean_squared_error: 0.0014 - val_loss: 0.0037 - val_mean_squared_error: 0.0037\n",
            "Epoch 7/10\n",
            "52/52 [==============================] - 0s 7ms/step - loss: 0.0012 - mean_squared_error: 0.0012 - val_loss: 0.0029 - val_mean_squared_error: 0.0029\n",
            "Epoch 8/10\n",
            "52/52 [==============================] - 0s 6ms/step - loss: 9.9838e-04 - mean_squared_error: 9.9838e-04 - val_loss: 0.0022 - val_mean_squared_error: 0.0022\n",
            "Epoch 9/10\n",
            "52/52 [==============================] - 0s 6ms/step - loss: 8.5154e-04 - mean_squared_error: 8.5154e-04 - val_loss: 0.0018 - val_mean_squared_error: 0.0018\n",
            "Epoch 10/10\n",
            "52/52 [==============================] - 0s 6ms/step - loss: 7.3516e-04 - mean_squared_error: 7.3516e-04 - val_loss: 0.0014 - val_mean_squared_error: 0.0014\n"
          ]
        }
      ],
      "source": [
        "batchsize = 32\n",
        "epochs =  10 \n",
        "\n",
        "# Fit model\n",
        "history = model.fit(X_train, y_train, batch_size=batchsize, epochs=epochs, validation_split=0.2, shuffle = False) "
      ]
    },
    {
      "cell_type": "code",
      "execution_count": 21,
      "metadata": {
        "colab": {
          "base_uri": "https://localhost:8080/",
          "height": 295
        },
        "id": "WiIh66vMUWmy",
        "outputId": "2c917382-d5fd-4b97-bd1e-6f68cec04a2c"
      },
      "outputs": [
        {
          "data": {
            "image/png": "[encoded data removed]",
            "text/plain": [
              "<Figure size 432x288 with 1 Axes>"
            ]
          },
          "metadata": {
            "needs_background": "light"
          },
          "output_type": "display_data"
        }
      ],
      "source": [
        "# Plot the Model loss\n",
        "\n",
        "plt.plot(history.history['loss'])\n",
        "plt.plot(history.history['val_loss'])\n",
        "plt.title('Model Loss')\n",
        "plt.ylabel('Loss')\n",
        "plt.xlabel('Epochs')\n",
        "plt.legend(['train', 'test'])\n",
        "plt.show()"
      ]
    },
    {
      "attachments": {},
      "cell_type": "markdown",
      "metadata": {
        "id": "GkDcoN3CUWmy"
      },
      "source": [
        " Using the final (best) model to show model's performance on the test set. Model is trained on normalized data"
      ]
    },
    {
      "cell_type": "code",
      "execution_count": 22,
      "metadata": {
        "colab": {
          "base_uri": "https://localhost:8080/",
          "height": 316
        },
        "id": "m7dZ2Of1R4kI",
        "outputId": "f0be5375-a5f2-442e-a8f1-1e5e4c4d2be6"
      },
      "outputs": [
        {
          "name": "stdout",
          "output_type": "stream",
          "text": [
            "517\n",
            "517\n"
          ]
        },
        {
          "data": {
            "text/plain": [
              "<matplotlib.axes._subplots.AxesSubplot at 0x7f254591e810>"
            ]
          },
          "execution_count": 22,
          "metadata": {},
          "output_type": "execute_result"
        },
        {
          "data": {
            "image/png": "[encoded data removed]",
            "text/plain": [
              "<Figure size 432x288 with 1 Axes>"
            ]
          },
          "metadata": {
            "needs_background": "light"
          },
          "output_type": "display_data"
        }
      ],
      "source": [
        "\n",
        "y_pred_test = model.predict(X_test)\n",
        "y_pred_test = scaler.inverse_transform(y_pred_test)\n",
        "y_Test = scaler.inverse_transform(y_test.reshape(-1,1))\n",
        "print(len(y_pred_test))\n",
        "print(len(y_test))\n",
        "\n",
        "\n",
        "sns.lineplot(x = np.linspace(1,len(X_test),len(X_test)), y = y_Test.reshape(-1))\n",
        "sns.lineplot(x = np.linspace(1,len(X_test),len(X_test)), y = y_pred_test.flatten())\n",
        "\n",
        "# plt.plot(y_pred_test)\n",
        "# plt.plot(y_Test)\n",
        "# plt.show()\n"
      ]
    },
    {
      "attachments": {},
      "cell_type": "markdown",
      "metadata": {
        "id": "1to7eXUQNbDd"
      },
      "source": [
        "My model performs better with less lookup days, as it improves overall loss and causes the model to generalize better. Adding too many/increasing lookup days causes my model to overfit and worse loss. Adding more layers and dropout causes my model to have higher loss, So I added a few layers with no dropout to lower my loss. My model doesn't use Batch normalization."
      ]
    }
  ],
  "metadata": {
    "accelerator": "GPU",
    "colab": {
      "collapsed_sections": [],
      "name": "Arka_Pal_Assignment 5.ipynb",
      "provenance": [],
      "toc_visible": true
    },
    "kernelspec": {
      "display_name": "Python 3",
      "language": "python",
      "name": "python3"
    },
    "language_info": {
      "name": "python",
      "version": "3.11.0 (main, Oct 25 2022, 14:13:24) [Clang 14.0.0 (clang-1400.0.29.202)]"
    },
    "vscode": {
      "interpreter": {
        "hash": "1a1af0ee75eeea9e2e1ee996c87e7a2b11a0bebd85af04bb136d915cefc0abce"
      }
    }
  },
  "nbformat": 4,
  "nbformat_minor": 0
}
